{
 "cells": [
  {
   "cell_type": "markdown",
   "id": "8c0da666",
   "metadata": {},
   "source": [
    "### Algoritmos de Ordenamiento: Selection Sort\n",
    "El ordenamiento por selección es un algoritmo de ordenamiento basado en la comparación. Ordena una matriz seleccionando repetidamente el elemento más pequeño (o más grande) de la parte no ordenada e intercambiándolo con el primer elemento no ordenado. Este proceso continúa hasta que toda la matriz esté ordenada.\n",
    "\n",
    "1. Primero encontramos el elemento más pequeño y lo intercambiamos con el primero. De esta manera, el elemento más pequeño queda en su posición correcta.\n",
    "2. Luego encontramos el segundo elemento más pequeño de entre los elementos restantes (exceptuando el primer elemento intercambiado) y lo intercambiamos con el segundo elemento.\n",
    "3. Seguimos haciendo esto hasta que consigamos mover todos los elementos a la posición correcta."
   ]
  },
  {
   "cell_type": "code",
   "execution_count": 1,
   "id": "51c828aa",
   "metadata": {},
   "outputs": [
    {
     "name": "stdout",
     "output_type": "stream",
     "text": [
      "Lista original: [30, 15, 8, 21, 1]\n",
      "lista ordenada con selection sort: [1, 8, 15, 21, 30]\n"
     ]
    }
   ],
   "source": [
    "def selection_sort(arr):\n",
    "    n = len(arr)\n",
    "    for i in range(n):\n",
    "        min_idx = i\n",
    "        for j in range(i+1, n):\n",
    "            if arr[j] < arr[min_idx]:\n",
    "                min_idx = j\n",
    "        arr[i], arr[min_idx] = arr[min_idx], arr[i]\n",
    "    return arr\n",
    "\n",
    "lista = [30, 15, 8, 21, 1]\n",
    "print(\"Lista original:\", lista)\n",
    "print(\"lista ordenada con selection sort:\", selection_sort(lista))"
   ]
  }
 ],
 "metadata": {
  "kernelspec": {
   "display_name": "Python 3",
   "language": "python",
   "name": "python3"
  },
  "language_info": {
   "codemirror_mode": {
    "name": "ipython",
    "version": 3
   },
   "file_extension": ".py",
   "mimetype": "text/x-python",
   "name": "python",
   "nbconvert_exporter": "python",
   "pygments_lexer": "ipython3",
   "version": "3.12.9"
  }
 },
 "nbformat": 4,
 "nbformat_minor": 5
}
