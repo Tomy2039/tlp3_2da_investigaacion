{
 "cells": [
  {
   "cell_type": "markdown",
   "id": "8c0da666",
   "metadata": {},
   "source": [
    "## Algoritmos de Ordenamiento: Selection Sort\n",
    "El ordenamiento por selección es un algoritmo de ordenamiento basado en la comparación. Ordena una matriz seleccionando repetidamente el elemento más pequeño (o más grande) de la parte no ordenada e intercambiándolo con el primer elemento no ordenado. Este proceso continúa hasta que toda la matriz esté ordenada.\n",
    "\n",
    "1. Primero encontramos el elemento más pequeño y lo intercambiamos con el primero. De esta manera, el elemento más pequeño queda en su posición correcta.\n",
    "2. Luego encontramos el segundo elemento más pequeño de entre los elementos restantes (exceptuando el primer elemento intercambiado) y lo intercambiamos con el segundo elemento.\n",
    "3. Seguimos haciendo esto hasta que consigamos mover todos los elementos a la posición correcta.\n",
    "\n",
    "### Complejidad:\n",
    "- Peor caso: O(n²)\n",
    "- Mejor caso: O(n²)\n",
    "- Espacio adicional: O(1)\n",
    "\n",
    "Aunque no es eficiente para listas grandes, es útil para comprender los fundamentos del ordenamiento."
   ]
  },
  {
   "cell_type": "code",
   "execution_count": 1,
   "id": "51c828aa",
   "metadata": {},
   "outputs": [
    {
     "name": "stdout",
     "output_type": "stream",
     "text": [
      "Lista original: [30, 15, 8, 21, 1]\n",
      "lista ordenada con selection sort: [1, 8, 15, 21, 30]\n"
     ]
    }
   ],
   "source": [
    "def selection_sort(arr):\n",
    "    n = len(arr)\n",
    "    for i in range(n):\n",
    "        min_idx = i\n",
    "        for j in range(i+1, n):\n",
    "            if arr[j] < arr[min_idx]:\n",
    "                min_idx = j\n",
    "        arr[i], arr[min_idx] = arr[min_idx], arr[i]\n",
    "    return arr\n",
    "\n",
    "lista = [30, 15, 8, 21, 1]\n",
    "print(\"Lista original:\", lista)\n",
    "print(\"lista ordenada con selection sort:\", selection_sort(lista))"
   ]
  },
  {
   "cell_type": "markdown",
   "id": "1dde6f69",
   "metadata": {},
   "source": [
    "### Comparacion entre Seleccion_Sort y Bubble_Sort por medio de su rendimiento: "
   ]
  },
  {
   "cell_type": "code",
   "execution_count": 3,
   "id": "a0c7117d",
   "metadata": {},
   "outputs": [
    {
     "name": "stdout",
     "output_type": "stream",
     "text": [
      "Lista original: [64, 34, 25, 12, 22, 11, 90]\n",
      "Lista ordenada con Bubble Sort: [11, 12, 22, 25, 34, 64, 90]\n"
     ]
    }
   ],
   "source": [
    "def bubble_sort(arr):\n",
    "    n = len(arr)\n",
    "    for i in range(n):\n",
    "        for j in range(0, n - i - 1):\n",
    "            if arr[j] > arr[j + 1]:\n",
    "                arr[j], arr[j + 1] = arr[j + 1], arr[j]\n",
    "    return arr\n",
    "\n",
    "# Ejemplo\n",
    "listaSegunda = [64, 34, 25, 12, 22, 11, 90]\n",
    "print(\"Lista original:\", listaSegunda)\n",
    "print(\"Lista ordenada con Bubble Sort:\", bubble_sort(listaSegunda))"
   ]
  },
  {
   "cell_type": "code",
   "execution_count": 6,
   "id": "f40d1ca8",
   "metadata": {},
   "outputs": [
    {
     "name": "stdout",
     "output_type": "stream",
     "text": [
      "Selection Sort tardó: 0.5361 segundos\n",
      "Bubble Sort tardó: 1.0143 segundos\n"
     ]
    }
   ],
   "source": [
    "import time\n",
    "import random\n",
    "\n",
    "# Crear una lista aleatoria de 2000 elementos\n",
    "data = [random.randint(0, 10000) for _ in range(2000)]\n",
    "\n",
    "# Copias para cada algoritmo\n",
    "data_selection = data.copy()\n",
    "data_bubble = data.copy()\n",
    "\n",
    "# Medir tiempo de Selection Sort\n",
    "start = time.time()\n",
    "selection_sort(data_selection)\n",
    "end = time.time()\n",
    "selection_time = end - start\n",
    "\n",
    "# Medir tiempo de Bubble Sort\n",
    "start = time.time()\n",
    "bubble_sort(data_bubble)\n",
    "end = time.time()\n",
    "bubble_time = end - start\n",
    "\n",
    "print(f\"Selection Sort tardó: {selection_time:.4f} segundos\")\n",
    "print(f\"Bubble Sort tardó: {bubble_time:.4f} segundos\")\n"
   ]
  },
  {
   "cell_type": "markdown",
   "id": "f71ce41c",
   "metadata": {},
   "source": [
    "## Conclusion\n",
    "Para concluir voy a responder las siguientes preguntas para dar mi propia opinion de lo que investigue de este algoritmo\n",
    "\n",
    "### ¿Cuál fue más rápido?\n",
    "El que sin dudas fue mas rapido fue el Selection Sort\n",
    "\n",
    "### ¿Te sorprendió el resultado?\n",
    "La verdad que si, pense que el Bubble Sort seria el mas rapido que selection sort pese a tener casi la misma funcion pero con diferente procedimiento \n",
    "\n",
    "### ¿Te gustó el algoritmo que elegiste?\n",
    "Si, me gusto muchisimo es facil de entederlo y practicarlo "
   ]
  }
 ],
 "metadata": {
  "kernelspec": {
   "display_name": "Python 3",
   "language": "python",
   "name": "python3"
  },
  "language_info": {
   "codemirror_mode": {
    "name": "ipython",
    "version": 3
   },
   "file_extension": ".py",
   "mimetype": "text/x-python",
   "name": "python",
   "nbconvert_exporter": "python",
   "pygments_lexer": "ipython3",
   "version": "3.12.9"
  }
 },
 "nbformat": 4,
 "nbformat_minor": 5
}
